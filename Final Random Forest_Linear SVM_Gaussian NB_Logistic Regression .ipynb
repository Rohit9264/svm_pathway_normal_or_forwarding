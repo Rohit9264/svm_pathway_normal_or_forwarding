{
  "nbformat": 4,
  "nbformat_minor": 0,
  "metadata": {
    "colab": {
      "provenance": [],
      "authorship_tag": "ABX9TyMmThD1KvMdmKHZ+dB1WJLu",
      "include_colab_link": true
    },
    "kernelspec": {
      "name": "python3",
      "display_name": "Python 3"
    },
    "language_info": {
      "name": "python"
    }
  },
  "cells": [
    {
      "cell_type": "markdown",
      "metadata": {
        "id": "view-in-github",
        "colab_type": "text"
      },
      "source": [
        "<a href=\"https://colab.research.google.com/github/Rohit9264/svm_pathway_normal_or_forwarding/blob/main/Final%20Random%20Forest_Linear%20SVM_Gaussian%20NB_Logistic%20Regression%20.ipynb\" target=\"_parent\"><img src=\"https://colab.research.google.com/assets/colab-badge.svg\" alt=\"Open In Colab\"/></a>"
      ]
    },
    {
      "cell_type": "code",
      "execution_count": 1,
      "metadata": {
        "colab": {
          "base_uri": "https://localhost:8080/"
        },
        "id": "20sJucdOLVSg",
        "outputId": "694bc4ef-da35-49ae-d458-486f615a4ecf"
      },
      "outputs": [
        {
          "output_type": "stream",
          "name": "stdout",
          "text": [
            "Requirement already satisfied: imbalanced-learn in /usr/local/lib/python3.11/dist-packages (0.13.0)\n",
            "Requirement already satisfied: numpy<3,>=1.24.3 in /usr/local/lib/python3.11/dist-packages (from imbalanced-learn) (2.0.2)\n",
            "Requirement already satisfied: scipy<2,>=1.10.1 in /usr/local/lib/python3.11/dist-packages (from imbalanced-learn) (1.15.3)\n",
            "Requirement already satisfied: scikit-learn<2,>=1.3.2 in /usr/local/lib/python3.11/dist-packages (from imbalanced-learn) (1.6.1)\n",
            "Requirement already satisfied: sklearn-compat<1,>=0.1 in /usr/local/lib/python3.11/dist-packages (from imbalanced-learn) (0.1.3)\n",
            "Requirement already satisfied: joblib<2,>=1.1.1 in /usr/local/lib/python3.11/dist-packages (from imbalanced-learn) (1.5.1)\n",
            "Requirement already satisfied: threadpoolctl<4,>=2.0.0 in /usr/local/lib/python3.11/dist-packages (from imbalanced-learn) (3.6.0)\n"
          ]
        }
      ],
      "source": [
        "!pip install imbalanced-learn\n"
      ]
    },
    {
      "cell_type": "markdown",
      "source": [
        "Linear SVM"
      ],
      "metadata": {
        "id": "QE1-wmO0L2xW"
      }
    },
    {
      "cell_type": "code",
      "source": [
        "import pandas as pd\n",
        "from sklearn.model_selection import train_test_split\n",
        "from sklearn.preprocessing import StandardScaler\n",
        "from sklearn.svm import LinearSVC\n",
        "from sklearn.metrics import accuracy_score, precision_score, recall_score, f1_score, classification_report\n",
        "\n",
        "# Load data\n",
        "df = pd.read_csv('/content/datasetSMOTE.csv')\n",
        "X = df.drop('Class', axis=1)\n",
        "y = df['Class']\n",
        "\n",
        "# Split data\n",
        "X_train, X_test, y_train, y_test = train_test_split(X, y, test_size=0.3, random_state=42)\n",
        "\n",
        "# Scale features\n",
        "scaler = StandardScaler()\n",
        "X_train_scaled = scaler.fit_transform(X_train)\n",
        "X_test_scaled = scaler.transform(X_test)\n",
        "\n",
        "# Train Linear SVM\n",
        "model = LinearSVC(max_iter=10000)\n",
        "model.fit(X_train_scaled, y_train)\n",
        "y_pred = model.predict(X_test_scaled)\n",
        "\n",
        "# Evaluate\n",
        "print(\"Linear SVM Results\")\n",
        "print(\"Accuracy:\", accuracy_score(y_test, y_pred))\n",
        "print(\"Precision:\", precision_score(y_test, y_pred, average='binary', pos_label='Forwarding'))\n",
        "print(\"Recall:\", recall_score(y_test, y_pred, average='binary', pos_label='Forwarding'))\n",
        "print(\"F1 Score:\", f1_score(y_test, y_pred, average='binary', pos_label='Forwarding'))\n",
        "print(\"\\nClassification Report:\\n\", classification_report(y_test, y_pred))"
      ],
      "metadata": {
        "colab": {
          "base_uri": "https://localhost:8080/"
        },
        "id": "Pz4uDqaDL13g",
        "outputId": "4ccd5f14-f2f3-4edf-d20c-e1c61ed828a0"
      },
      "execution_count": 3,
      "outputs": [
        {
          "output_type": "stream",
          "name": "stdout",
          "text": [
            "Linear SVM Results\n",
            "Accuracy: 0.9732097746121332\n",
            "Precision: 0.6673427991886409\n",
            "Recall: 0.14065840102607952\n",
            "F1 Score: 0.2323446327683616\n",
            "\n",
            "Classification Report:\n",
            "               precision    recall  f1-score   support\n",
            "\n",
            "  Forwarding       0.67      0.14      0.23      2339\n",
            "      normal       0.98      1.00      0.99     78810\n",
            "\n",
            "    accuracy                           0.97     81149\n",
            "   macro avg       0.82      0.57      0.61     81149\n",
            "weighted avg       0.97      0.97      0.96     81149\n",
            "\n"
          ]
        }
      ]
    },
    {
      "cell_type": "markdown",
      "source": [
        "Random Forest\n"
      ],
      "metadata": {
        "id": "xNde5WhlMlOu"
      }
    },
    {
      "cell_type": "code",
      "source": [
        "import pandas as pd\n",
        "from sklearn.model_selection import train_test_split\n",
        "from sklearn.ensemble import RandomForestClassifier\n",
        "from sklearn.metrics import accuracy_score, precision_score, recall_score, f1_score, classification_report\n",
        "\n",
        "# Load data\n",
        "df = pd.read_csv('/content/datasetSMOTE.csv')\n",
        "X = df.drop('Class', axis=1)\n",
        "y = df['Class']\n",
        "\n",
        "# Split data\n",
        "X_train, X_test, y_train, y_test = train_test_split(X, y, test_size=0.3, random_state=42)\n",
        "\n",
        "# Train Random Forest\n",
        "model = RandomForestClassifier(n_estimators=100, random_state=42)\n",
        "model.fit(X_train, y_train)\n",
        "y_pred = model.predict(X_test)\n",
        "\n",
        "# Evaluate\n",
        "print(\"Random Forest Results\")\n",
        "print(\"Accuracy:\", accuracy_score(y_test, y_pred))\n",
        "print(\"Precision:\", precision_score(y_test, y_pred, average='binary', pos_label='Forwarding'))\n",
        "print(\"Recall:\", recall_score(y_test, y_pred, average='binary', pos_label='Forwarding'))\n",
        "print(\"F1 Score:\", f1_score(y_test, y_pred, average='binary', pos_label='Forwarding'))\n",
        "print(\"\\nClassification Report:\\n\", classification_report(y_test, y_pred))\n"
      ],
      "metadata": {
        "colab": {
          "base_uri": "https://localhost:8080/"
        },
        "id": "QNQB230SL10C",
        "outputId": "a09d5da7-297c-49b8-c113-28f3a7176c8d"
      },
      "execution_count": 4,
      "outputs": [
        {
          "output_type": "stream",
          "name": "stdout",
          "text": [
            "Random Forest Results\n",
            "Accuracy: 1.0\n",
            "Precision: 1.0\n",
            "Recall: 1.0\n",
            "F1 Score: 1.0\n",
            "\n",
            "Classification Report:\n",
            "               precision    recall  f1-score   support\n",
            "\n",
            "  Forwarding       1.00      1.00      1.00      2339\n",
            "      normal       1.00      1.00      1.00     78810\n",
            "\n",
            "    accuracy                           1.00     81149\n",
            "   macro avg       1.00      1.00      1.00     81149\n",
            "weighted avg       1.00      1.00      1.00     81149\n",
            "\n"
          ]
        }
      ]
    },
    {
      "cell_type": "markdown",
      "source": [
        "Gaussian NB"
      ],
      "metadata": {
        "id": "zRnchSFHNAgk"
      }
    },
    {
      "cell_type": "code",
      "source": [
        "import pandas as pd\n",
        "from sklearn.model_selection import train_test_split\n",
        "from sklearn.naive_bayes import GaussianNB\n",
        "from sklearn.metrics import accuracy_score, precision_score, recall_score, f1_score, classification_report\n",
        "\n",
        "# Load data\n",
        "df = pd.read_csv('/content/datasetSMOTE.csv')\n",
        "X = df.drop('Class', axis=1)\n",
        "y = df['Class']\n",
        "\n",
        "# Split data\n",
        "X_train, X_test, y_train, y_test = train_test_split(X, y, test_size=0.3, random_state=42)\n",
        "\n",
        "# Train GaussianNB\n",
        "model = GaussianNB()\n",
        "model.fit(X_train, y_train)\n",
        "y_pred = model.predict(X_test)\n",
        "\n",
        "# Evaluate\n",
        "print(\"Gaussian NB Results\")\n",
        "print(\"Accuracy:\", accuracy_score(y_test, y_pred))\n",
        "print(\"Precision:\", precision_score(y_test, y_pred, average='binary', pos_label='Forwarding'))\n",
        "print(\"Recall:\", recall_score(y_test, y_pred, average='binary', pos_label='Forwarding'))\n",
        "print(\"F1 Score:\", f1_score(y_test, y_pred, average='binary', pos_label='Forwarding'))\n",
        "print(\"\\nClassification Report:\\n\", classification_report(y_test, y_pred))\n"
      ],
      "metadata": {
        "colab": {
          "base_uri": "https://localhost:8080/"
        },
        "id": "rgvS8SUOL1xn",
        "outputId": "7372e587-36ea-4525-cee7-0d72bda74b9b"
      },
      "execution_count": 5,
      "outputs": [
        {
          "output_type": "stream",
          "name": "stdout",
          "text": [
            "Gaussian NB Results\n",
            "Accuracy: 0.9429074911582398\n",
            "Precision: 0.15368357487922704\n",
            "Recall: 0.2176143651132963\n",
            "F1 Score: 0.18014510706069722\n",
            "\n",
            "Classification Report:\n",
            "               precision    recall  f1-score   support\n",
            "\n",
            "  Forwarding       0.15      0.22      0.18      2339\n",
            "      normal       0.98      0.96      0.97     78810\n",
            "\n",
            "    accuracy                           0.94     81149\n",
            "   macro avg       0.57      0.59      0.58     81149\n",
            "weighted avg       0.95      0.94      0.95     81149\n",
            "\n"
          ]
        }
      ]
    },
    {
      "cell_type": "markdown",
      "source": [
        "Logistic Regression"
      ],
      "metadata": {
        "id": "yo_dGYIwNd4B"
      }
    },
    {
      "cell_type": "code",
      "source": [
        "import pandas as pd\n",
        "from sklearn.model_selection import train_test_split\n",
        "from sklearn.preprocessing import StandardScaler\n",
        "from sklearn.linear_model import LogisticRegression\n",
        "from sklearn.metrics import accuracy_score, precision_score, recall_score, f1_score, classification_report\n",
        "\n",
        "# Load data\n",
        "df = pd.read_csv('/content/datasetSMOTE.csv')\n",
        "X = df.drop('Class', axis=1)\n",
        "y = df['Class']\n",
        "\n",
        "# Split data\n",
        "X_train, X_test, y_train, y_test = train_test_split(X, y, test_size=0.3, random_state=42)\n",
        "\n",
        "# Scale features\n",
        "scaler = StandardScaler()\n",
        "X_train_scaled = scaler.fit_transform(X_train)\n",
        "X_test_scaled = scaler.transform(X_test)\n",
        "\n",
        "# Train Logistic Regression\n",
        "model = LogisticRegression(max_iter=1000)\n",
        "model.fit(X_train_scaled, y_train)\n",
        "y_pred = model.predict(X_test_scaled)\n",
        "\n",
        "# Evaluate\n",
        "print(\"Logistic Regression Results\")\n",
        "print(\"Accuracy:\", accuracy_score(y_test, y_pred))\n",
        "print(\"Precision:\", precision_score(y_test, y_pred, average='binary', pos_label='Forwarding'))\n",
        "print(\"Recall:\", recall_score(y_test, y_pred, average='binary', pos_label='Forwarding'))\n",
        "print(\"F1 Score:\", f1_score(y_test, y_pred, average='binary', pos_label='Forwarding'))\n",
        "print(\"\\nClassification Report:\\n\", classification_report(y_test, y_pred))\n",
        "\n"
      ],
      "metadata": {
        "colab": {
          "base_uri": "https://localhost:8080/"
        },
        "id": "RFNxPEDOL1u1",
        "outputId": "26624320-a806-472b-ba8d-bc584fea6cc5"
      },
      "execution_count": 6,
      "outputs": [
        {
          "output_type": "stream",
          "name": "stdout",
          "text": [
            "Logistic Regression Results\n",
            "Accuracy: 0.9731358365475853\n",
            "Precision: 0.7154471544715447\n",
            "Recall: 0.11286874732791792\n",
            "F1 Score: 0.19497784342688332\n",
            "\n",
            "Classification Report:\n",
            "               precision    recall  f1-score   support\n",
            "\n",
            "  Forwarding       0.72      0.11      0.19      2339\n",
            "      normal       0.97      1.00      0.99     78810\n",
            "\n",
            "    accuracy                           0.97     81149\n",
            "   macro avg       0.84      0.56      0.59     81149\n",
            "weighted avg       0.97      0.97      0.96     81149\n",
            "\n"
          ]
        }
      ]
    }
  ]
}